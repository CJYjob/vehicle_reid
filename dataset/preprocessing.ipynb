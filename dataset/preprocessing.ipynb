{
 "cells": [
  {
   "cell_type": "code",
   "execution_count": 1,
   "metadata": {},
   "outputs": [],
   "source": [
    "import glob\n",
    "import os\n",
    "import shutil"
   ]
  },
  {
   "cell_type": "code",
   "execution_count": 2,
   "metadata": {},
   "outputs": [
    {
     "data": {
      "text/plain": [
       "['car_appearance', 'car_appearance_origin', 'preprocessing.ipynb']"
      ]
     },
     "execution_count": 2,
     "metadata": {},
     "output_type": "execute_result"
    }
   ],
   "source": [
    "os.listdir(\".\")"
   ]
  },
  {
   "cell_type": "code",
   "execution_count": 3,
   "metadata": {},
   "outputs": [],
   "source": [
    "target_dataset= \"car_appearance_origin\""
   ]
  },
  {
   "cell_type": "code",
   "execution_count": 5,
   "metadata": {},
   "outputs": [],
   "source": [
    "files = glob.glob(f\"{target_dataset}/*/*/*/*\")  # Validation 위치에서 작동\n",
    "\n",
    "for file in files:\n",
    "    if file.split(\"_\")[-3] == \"P\":  # split한 인자 중에 뒤에서 3번째가 P라면\n",
    "        os.chmod(file, 0o777)       # 파일 권한을 낮춰서 python에서 삭제할 수 있게 만듬\n",
    "        os.remove(file)             # 파일 삭제\n"
   ]
  },
  {
   "cell_type": "code",
   "execution_count": 7,
   "metadata": {},
   "outputs": [],
   "source": [
    "directories = glob.glob(f\"{target_dataset}/*/*/*\")\n",
    "\n",
    "base = None\n",
    "\n",
    "for directory in directories:\n",
    "    if directory[-1] == \"A\":   # base directory\n",
    "        base = directory\n",
    "    else:\n",
    "        file_list = os.listdir(directory)  # get file list\n",
    "        for file in file_list:\n",
    "            shutil.move(os.path.join(directory, file), os.path.join(base, file))\n",
    "        \n",
    "        if os.path.exists(directory):  # remove empty directory\n",
    "            os.rmdir(directory)\n"
   ]
  },
  {
   "cell_type": "code",
   "execution_count": 8,
   "metadata": {},
   "outputs": [
    {
     "data": {
      "text/plain": [
       "1012"
      ]
     },
     "execution_count": 8,
     "metadata": {},
     "output_type": "execute_result"
    }
   ],
   "source": [
    "len(glob.glob(f\"{target_dataset}/*/*/*\"))\n"
   ]
  }
 ],
 "metadata": {
  "kernelspec": {
   "display_name": "pytorch",
   "language": "python",
   "name": "python3"
  },
  "language_info": {
   "codemirror_mode": {
    "name": "ipython",
    "version": 3
   },
   "file_extension": ".py",
   "mimetype": "text/x-python",
   "name": "python",
   "nbconvert_exporter": "python",
   "pygments_lexer": "ipython3",
   "version": "3.9.15 (main, Nov 24 2022, 14:39:17) [MSC v.1916 64 bit (AMD64)]"
  },
  "orig_nbformat": 4,
  "vscode": {
   "interpreter": {
    "hash": "e794c38f33fd70d1e70c57fa3342d2938e6182e726c88c86ca5b11f9f6f7ff2f"
   }
  }
 },
 "nbformat": 4,
 "nbformat_minor": 2
}
