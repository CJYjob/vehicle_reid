{
 "cells": [
  {
   "cell_type": "code",
   "execution_count": 1,
   "metadata": {},
   "outputs": [],
   "source": [
    "from util.settings import ReID\n",
    "from util.reid_onnx_helper import ReidHelper\n",
    "vehicleID = ReID('veriwild_dynamic.onnx')\n"
   ]
  },
  {
   "cell_type": "code",
   "execution_count": 2,
   "metadata": {},
   "outputs": [],
   "source": [
    "import pandas as pd\n",
    "\n",
    "dataset_path = 'dataset/car_appearance/'\n",
    "\n",
    "df = pd.read_csv(dataset_path+\"/annotation.csv\",)\n"
   ]
  },
  {
   "cell_type": "code",
   "execution_count": 3,
   "metadata": {},
   "outputs": [],
   "source": [
    "import cv2"
   ]
  },
  {
   "cell_type": "code",
   "execution_count": 4,
   "metadata": {},
   "outputs": [],
   "source": [
    "# the group that more than one element\n",
    "df_ = df.groupby('classId').apply(lambda group:group if len(group) > 1 else None).reset_index(drop=True)"
   ]
  },
  {
   "cell_type": "code",
   "execution_count": 5,
   "metadata": {},
   "outputs": [],
   "source": [
    "anchors = df_.groupby(\"classId\").first()"
   ]
  },
  {
   "cell_type": "code",
   "execution_count": 6,
   "metadata": {},
   "outputs": [],
   "source": [
    "gallaries = df_.groupby('classId').apply(lambda group:group.iloc[1:]).reset_index(drop=True)"
   ]
  },
  {
   "cell_type": "code",
   "execution_count": 7,
   "metadata": {},
   "outputs": [],
   "source": [
    "import onnxruntime as onnx\n",
    "from util.util import calc_cosign_similarity, get_images\n",
    "from tqdm import tqdm\n"
   ]
  },
  {
   "cell_type": "code",
   "execution_count": 8,
   "metadata": {},
   "outputs": [
    {
     "name": "stderr",
     "output_type": "stream",
     "text": [
      "100%|██████████| 1003/1003 [3:15:18<00:00, 11.68s/it] "
     ]
    },
    {
     "name": "stdout",
     "output_type": "stream",
     "text": [
      "0.17746759720837488 0.3160518444666002 0.3898305084745763\n"
     ]
    },
    {
     "name": "stderr",
     "output_type": "stream",
     "text": [
      "\n"
     ]
    }
   ],
   "source": [
    "reid = ReidHelper(vehicleID)\n",
    "rank1 = 0\n",
    "rank5 = 0\n",
    "rank10 = 0\n",
    "i = 0      # 실제 클래스의 수\n",
    "for cid, anchor in tqdm(anchors.iterrows(), total=anchors.shape[0]):\n",
    "\n",
    "    #query image\n",
    "    anchor_img = get_images(dataset_path+anchor['file_name'])\n",
    "    anchor_img_feat = reid.infer(anchor_img)\n",
    "\n",
    "    #gallary image\n",
    "    gallary_similarity = []\n",
    "    for _cid, gallary in gallaries.groupby(\"classId\").agg(pd.DataFrame.sample).iterrows():\n",
    "\n",
    "        gallary_img = get_images(dataset_path+gallary['file_name'])\n",
    "        gallary_img_feat = reid.infer(gallary_img)\n",
    "\n",
    "        similarity = calc_cosign_similarity(anchor_img_feat, gallary_img_feat)\n",
    "\n",
    "        gallary_similarity.append(\n",
    "            tuple([similarity, _cid, gallary['file_name']]))\n",
    "\n",
    "    gallary_similarity.sort(reverse=True)\n",
    "\n",
    "    rank1 += 1 if list(filter(lambda x: x[1]\n",
    "                       == cid, gallary_similarity[:1])) else 0\n",
    "    rank5 += 1 if list(filter(lambda x: x[1]\n",
    "                       == cid, gallary_similarity[:5])) else 0\n",
    "    rank10 += 1 if list(filter(lambda x: x[1]\n",
    "                        == cid, gallary_similarity[:10])) else 0\n",
    "    i += 1\n",
    "rank1 /= i\n",
    "rank5 /= i\n",
    "rank10 /= i\n",
    "\n",
    "print(rank1, rank5, rank10)\n"
   ]
  },
  {
   "cell_type": "code",
   "execution_count": 9,
   "metadata": {},
   "outputs": [
    {
     "data": {
      "text/plain": [
       "(178.0, 317.0, 391.0, 1003)"
      ]
     },
     "execution_count": 9,
     "metadata": {},
     "output_type": "execute_result"
    }
   ],
   "source": [
    "rank1*i, rank5*i, rank10*i, i\n"
   ]
  }
 ],
 "metadata": {
  "kernelspec": {
   "display_name": "pytorch",
   "language": "python",
   "name": "python3"
  },
  "language_info": {
   "codemirror_mode": {
    "name": "ipython",
    "version": 3
   },
   "file_extension": ".py",
   "mimetype": "text/x-python",
   "name": "python",
   "nbconvert_exporter": "python",
   "pygments_lexer": "ipython3",
   "version": "3.9.15"
  },
  "orig_nbformat": 4,
  "vscode": {
   "interpreter": {
    "hash": "e794c38f33fd70d1e70c57fa3342d2938e6182e726c88c86ca5b11f9f6f7ff2f"
   }
  }
 },
 "nbformat": 4,
 "nbformat_minor": 2
}
