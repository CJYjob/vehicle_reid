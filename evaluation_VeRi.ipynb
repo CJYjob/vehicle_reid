{
 "cells": [
  {
   "cell_type": "code",
   "execution_count": 1,
   "metadata": {},
   "outputs": [],
   "source": [
    "from eval.evaluation import Evaluation\n",
    "\n",
    "eval = Evaluation(\"VeRi_dynamic.onnx\",\n",
    "                  \"dataset/car_appearance/\",\n",
    "                  \"annotation.csv\")\n"
   ]
  },
  {
   "cell_type": "code",
   "execution_count": 2,
   "metadata": {},
   "outputs": [
    {
     "name": "stderr",
     "output_type": "stream",
     "text": [
      "100%|██████████| 638/638 [42:55<00:00,  4.04s/it, rank1=186, rank5=286, rank10=329]"
     ]
    },
    {
     "name": "stdout",
     "output_type": "stream",
     "text": [
      "rank1 : 186/638::0.29153605015673983, rank5 : 286/638::0.4482758620689655, rank10 : 329/638::0.5156739811912225\n"
     ]
    },
    {
     "name": "stderr",
     "output_type": "stream",
     "text": [
      "\n"
     ]
    }
   ],
   "source": [
    "eval.evaluation_rank_k_by_batch(\"B\")\n"
   ]
  },
  {
   "cell_type": "code",
   "execution_count": 3,
   "metadata": {},
   "outputs": [
    {
     "name": "stderr",
     "output_type": "stream",
     "text": [
      "100%|██████████| 596/596 [36:41<00:00,  3.69s/it, rank1=153, rank5=217, rank10=254]"
     ]
    },
    {
     "name": "stdout",
     "output_type": "stream",
     "text": [
      "rank1 : 153/596::0.25671140939597314, rank5 : 217/596::0.3640939597315436, rank10 : 254/596::0.4261744966442953\n"
     ]
    },
    {
     "name": "stderr",
     "output_type": "stream",
     "text": [
      "\n"
     ]
    }
   ],
   "source": [
    "eval.evaluation_rank_k_by_batch(\"F\")\n"
   ]
  },
  {
   "cell_type": "code",
   "execution_count": 4,
   "metadata": {},
   "outputs": [
    {
     "name": "stderr",
     "output_type": "stream",
     "text": [
      "100%|██████████| 856/856 [1:27:56<00:00,  6.16s/it, rank1=157, rank5=272, rank10=342]"
     ]
    },
    {
     "name": "stdout",
     "output_type": "stream",
     "text": [
      "rank1 : 157/856::0.18341121495327103, rank5 : 272/856::0.3177570093457944, rank10 : 342/856::0.39953271028037385\n"
     ]
    },
    {
     "name": "stderr",
     "output_type": "stream",
     "text": [
      "\n"
     ]
    },
    {
     "ename": "",
     "evalue": "",
     "output_type": "error",
     "traceback": [
      "\u001b[1;31m현재 셀 또는 이전 셀에서 코드를 실행하는 동안 Kernel이 충돌했습니다. 셀의 코드를 검토하여 오류의 가능한 원인을 식별하세요. 자세한 내용을 보려면 <a href='https://aka.ms/vscodeJupyterKernelCrash'> 여기 </a> 를 클릭하세요. 자세한 내용은 Jupyter <a href='command:jupyter.viewOutput'>로그</a>를 참조하세요."
     ]
    }
   ],
   "source": [
    "eval.evaluation_rank_k_by_batch(\"S\")\n"
   ]
  }
 ],
 "metadata": {
  "kernelspec": {
   "display_name": "pytorch",
   "language": "python",
   "name": "python3"
  },
  "language_info": {
   "codemirror_mode": {
    "name": "ipython",
    "version": 3
   },
   "file_extension": ".py",
   "mimetype": "text/x-python",
   "name": "python",
   "nbconvert_exporter": "python",
   "pygments_lexer": "ipython3",
   "version": "3.9.15 (main, Nov 24 2022, 14:39:17) [MSC v.1916 64 bit (AMD64)]"
  },
  "orig_nbformat": 4,
  "vscode": {
   "interpreter": {
    "hash": "e794c38f33fd70d1e70c57fa3342d2938e6182e726c88c86ca5b11f9f6f7ff2f"
   }
  }
 },
 "nbformat": 4,
 "nbformat_minor": 2
}
