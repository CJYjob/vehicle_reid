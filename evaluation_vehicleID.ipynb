{
 "cells": [
  {
   "cell_type": "code",
   "execution_count": 1,
   "metadata": {},
   "outputs": [],
   "source": [
    "from eval.evaluation import Evaluation\n",
    "\n",
    "eval = Evaluation(\"vehicleID_dynamic.onnx\",\n",
    "                  \"dataset/car_appearance/\",\n",
    "                  \"annotation.csv\")"
   ]
  },
  {
   "cell_type": "code",
   "execution_count": 2,
   "metadata": {},
   "outputs": [
    {
     "name": "stderr",
     "output_type": "stream",
     "text": [
      "100%|██████████| 638/638 [38:35<00:00,  3.63s/it, rank1=125, rank5=208, rank10=254]"
     ]
    },
    {
     "name": "stdout",
     "output_type": "stream",
     "text": [
      "rank1 : 125/638::0.19592476489028213, rank5 : 208/638::0.32601880877742945, rank10 : 254/638::0.3981191222570533\n"
     ]
    },
    {
     "name": "stderr",
     "output_type": "stream",
     "text": [
      "\n"
     ]
    }
   ],
   "source": [
    "eval.evaluation_rank_k_by_batch(\"B\")\n"
   ]
  },
  {
   "cell_type": "code",
   "execution_count": 3,
   "metadata": {},
   "outputs": [
    {
     "name": "stderr",
     "output_type": "stream",
     "text": [
      "100%|██████████| 596/596 [35:23<00:00,  3.56s/it, rank1=130, rank5=224, rank10=265]"
     ]
    },
    {
     "name": "stdout",
     "output_type": "stream",
     "text": [
      "rank1 : 130/596::0.2181208053691275, rank5 : 224/596::0.37583892617449666, rank10 : 265/596::0.4446308724832215\n"
     ]
    },
    {
     "name": "stderr",
     "output_type": "stream",
     "text": [
      "\n"
     ]
    }
   ],
   "source": [
    "eval.evaluation_rank_k_by_batch(\"F\")\n"
   ]
  },
  {
   "cell_type": "code",
   "execution_count": 4,
   "metadata": {},
   "outputs": [
    {
     "name": "stderr",
     "output_type": "stream",
     "text": [
      "100%|██████████| 856/856 [1:24:39<00:00,  5.93s/it, rank1=73, rank5=139, rank10=181]"
     ]
    },
    {
     "name": "stdout",
     "output_type": "stream",
     "text": [
      "rank1 : 73/856::0.0852803738317757, rank5 : 139/856::0.16238317757009346, rank10 : 181/856::0.21144859813084113\n"
     ]
    },
    {
     "name": "stderr",
     "output_type": "stream",
     "text": [
      "\n"
     ]
    }
   ],
   "source": [
    "eval.evaluation_rank_k_by_batch(\"S\")\n"
   ]
  }
 ],
 "metadata": {
  "kernelspec": {
   "display_name": "base",
   "language": "python",
   "name": "python3"
  },
  "language_info": {
   "codemirror_mode": {
    "name": "ipython",
    "version": 3
   },
   "file_extension": ".py",
   "mimetype": "text/x-python",
   "name": "python",
   "nbconvert_exporter": "python",
   "pygments_lexer": "ipython3",
   "version": "3.9.13 (main, Aug 25 2022, 23:51:50) [MSC v.1916 64 bit (AMD64)]"
  },
  "orig_nbformat": 4,
  "vscode": {
   "interpreter": {
    "hash": "b4b143841983770d84c176b1c8a7e0132d51e8f6de409b808c1e8da94e3c5037"
   }
  }
 },
 "nbformat": 4,
 "nbformat_minor": 2
}
