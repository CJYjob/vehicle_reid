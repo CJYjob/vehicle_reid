{
 "cells": [
  {
   "cell_type": "code",
   "execution_count": 1,
   "metadata": {},
   "outputs": [],
   "source": [
    "from eval.evaluation import Evaluation\n",
    "\n",
    "eval = Evaluation(\"veriwild_dynamic.onnx\",\n",
    "                  \"dataset/car_appearance/\",\n",
    "                  \"annotation.csv\")\n"
   ]
  },
  {
   "cell_type": "code",
   "execution_count": 2,
   "metadata": {},
   "outputs": [
    {
     "name": "stderr",
     "output_type": "stream",
     "text": [
      "100%|██████████| 638/638 [33:44<00:00,  3.17s/it, rank1=204, rank5=359, rank10=403]"
     ]
    },
    {
     "name": "stdout",
     "output_type": "stream",
     "text": [
      "rank1 : 204/638::0.31974921630094044, rank5 : 359/638::0.5626959247648903, rank10 : 403/638::0.6316614420062696\n"
     ]
    },
    {
     "name": "stderr",
     "output_type": "stream",
     "text": [
      "\n"
     ]
    }
   ],
   "source": [
    "eval.evaluation_rank_k_by_batch(\"B\")\n"
   ]
  },
  {
   "cell_type": "code",
   "execution_count": 3,
   "metadata": {},
   "outputs": [
    {
     "name": "stderr",
     "output_type": "stream",
     "text": [
      "100%|██████████| 596/596 [29:36<00:00,  2.98s/it, rank1=212, rank5=350, rank10=399]"
     ]
    },
    {
     "name": "stdout",
     "output_type": "stream",
     "text": [
      "rank1 : 212/596::0.35570469798657717, rank5 : 350/596::0.587248322147651, rank10 : 399/596::0.6694630872483222\n"
     ]
    },
    {
     "name": "stderr",
     "output_type": "stream",
     "text": [
      "\n"
     ]
    }
   ],
   "source": [
    "eval.evaluation_rank_k_by_batch(\"F\")\n"
   ]
  },
  {
   "cell_type": "code",
   "execution_count": 4,
   "metadata": {},
   "outputs": [
    {
     "name": "stderr",
     "output_type": "stream",
     "text": [
      "100%|██████████| 856/856 [1:12:18<00:00,  5.07s/it, rank1=189, rank5=308, rank10=371]"
     ]
    },
    {
     "name": "stdout",
     "output_type": "stream",
     "text": [
      "rank1 : 189/856::0.2207943925233645, rank5 : 308/856::0.3598130841121495, rank10 : 371/856::0.433411214953271\n"
     ]
    },
    {
     "name": "stderr",
     "output_type": "stream",
     "text": [
      "\n"
     ]
    }
   ],
   "source": [
    "eval.evaluation_rank_k_by_batch(\"S\")\n"
   ]
  }
 ],
 "metadata": {
  "kernelspec": {
   "display_name": "pytorch",
   "language": "python",
   "name": "python3"
  },
  "language_info": {
   "codemirror_mode": {
    "name": "ipython",
    "version": 3
   },
   "file_extension": ".py",
   "mimetype": "text/x-python",
   "name": "python",
   "nbconvert_exporter": "python",
   "pygments_lexer": "ipython3",
   "version": "3.9.15 (main, Nov 24 2022, 14:39:17) [MSC v.1916 64 bit (AMD64)]"
  },
  "orig_nbformat": 4,
  "vscode": {
   "interpreter": {
    "hash": "e794c38f33fd70d1e70c57fa3342d2938e6182e726c88c86ca5b11f9f6f7ff2f"
   }
  }
 },
 "nbformat": 4,
 "nbformat_minor": 2
}
