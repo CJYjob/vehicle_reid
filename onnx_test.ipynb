{
 "cells": [
  {
   "cell_type": "code",
   "execution_count": 1,
   "metadata": {},
   "outputs": [],
   "source": [
    "from eval.evaluation import Evaluation\n",
    "\n",
    "eval = Evaluation(\"vehicleID_dynamic.onnx\",\n",
    "                  \"dataset/car_appearance/\",\n",
    "                  \"annotation.csv\")\n"
   ]
  },
  {
   "cell_type": "code",
   "execution_count": 2,
   "metadata": {},
   "outputs": [
    {
     "name": "stderr",
     "output_type": "stream",
     "text": [
      "  0%|          | 0/638 [00:00<?, ?it/s]"
     ]
    },
    {
     "name": "stdout",
     "output_type": "stream",
     "text": [
      "0\n"
     ]
    },
    {
     "name": "stderr",
     "output_type": "stream",
     "text": [
      "  0%|          | 0/638 [00:10<?, ?it/s, rank1=1, rank5=1, rank10=1]"
     ]
    },
    {
     "name": "stdout",
     "output_type": "stream",
     "text": [
      "[(array(0.7227863, dtype=float32), 0), (array(0.56348795, dtype=float32), 569), (array(0.5616294, dtype=float32), 584), (array(0.55634016, dtype=float32), 199), (array(0.5509736, dtype=float32), 749), (array(0.5303614, dtype=float32), 9), (array(0.5250075, dtype=float32), 539), (array(0.52344924, dtype=float32), 138), (array(0.5155571, dtype=float32), 913), (array(0.50783825, dtype=float32), 769), (array(0.5019537, dtype=float32), 770), (array(0.49375635, dtype=float32), 5), (array(0.48663604, dtype=float32), 298), (array(0.47500682, dtype=float32), 100), (array(0.47191024, dtype=float32), 620), (array(0.4685865, dtype=float32), 103), (array(0.46774036, dtype=float32), 867), (array(0.4620095, dtype=float32), 565), (array(0.4599995, dtype=float32), 287), (array(0.45651832, dtype=float32), 790)]\n",
      "rank1 : 1/1::1.0, rank5 : 1/1::1.0, rank10 : 1/1::1.0\n"
     ]
    },
    {
     "name": "stderr",
     "output_type": "stream",
     "text": [
      "\n"
     ]
    }
   ],
   "source": [
    "eval.evaluation_rank_k(\"B\")\n"
   ]
  },
  {
   "cell_type": "code",
   "execution_count": 2,
   "metadata": {},
   "outputs": [
    {
     "name": "stderr",
     "output_type": "stream",
     "text": [
      "  0%|          | 0/638 [00:10<?, ?it/s, rank1=1, rank5=1, rank10=1]"
     ]
    },
    {
     "name": "stdout",
     "output_type": "stream",
     "text": [
      "[  0 569 584 199 749   9 539 138 913 769]\n",
      "rank1 : 1/1::1.0, rank5 : 1/1::1.0, rank10 : 1/1::1.0\n"
     ]
    },
    {
     "name": "stderr",
     "output_type": "stream",
     "text": [
      "\n"
     ]
    }
   ],
   "source": [
    "eval.evaluation_rank_k_by_batch(\"B\")\n"
   ]
  },
  {
   "cell_type": "code",
   "execution_count": 1,
   "metadata": {},
   "outputs": [],
   "source": [
    "import onnxruntime as onnx\n",
    "\n",
    "sess = onnx.InferenceSession(\n",
    "    \"models/veriwild_dynamic.onnx\", providers=['CUDAExecutionProvider'])\n"
   ]
  },
  {
   "cell_type": "code",
   "execution_count": 2,
   "metadata": {},
   "outputs": [],
   "source": [
    "import cv2\n",
    "\n",
    "sample_img = cv2.imread(\"sample/31815037_003.jpg\")"
   ]
  },
  {
   "cell_type": "code",
   "execution_count": 3,
   "metadata": {},
   "outputs": [],
   "source": [
    "import numpy as np\n",
    "\n",
    "sample_img = sample_img[:, :, ::-1]\n",
    "img = cv2.resize(sample_img, (256, 256), interpolation=cv2.INTER_CUBIC)\n",
    "img = img.astype(\"float32\").transpose(2,0,1)"
   ]
  },
  {
   "cell_type": "code",
   "execution_count": 4,
   "metadata": {},
   "outputs": [],
   "source": [
    "imgs = np.stack([img, img])"
   ]
  },
  {
   "cell_type": "code",
   "execution_count": 5,
   "metadata": {},
   "outputs": [
    {
     "data": {
      "text/plain": [
       "(2, 3, 256, 256)"
      ]
     },
     "execution_count": 5,
     "metadata": {},
     "output_type": "execute_result"
    }
   ],
   "source":